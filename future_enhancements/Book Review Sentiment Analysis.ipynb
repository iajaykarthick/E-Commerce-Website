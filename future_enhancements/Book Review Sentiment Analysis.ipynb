{
 "cells": [
  {
   "cell_type": "code",
   "execution_count": 32,
   "id": "8fd52903",
   "metadata": {},
   "outputs": [],
   "source": [
    "import pandas as pd \n",
    "import numpy as np \n",
    "import matplotlib.pyplot as plt\n",
    "import seaborn as sns \n",
    "import nltk \n",
    "from nltk.corpus import stopwords\n",
    "from nltk.stem.porter import PorterStemmer\n",
    "from sklearn.feature_extraction.text import TfidfVectorizer\n",
    "from sklearn.model_selection import train_test_split \n",
    "import re "
   ]
  },
  {
   "cell_type": "code",
   "execution_count": 2,
   "id": "d12f4149",
   "metadata": {
    "scrolled": true
   },
   "outputs": [
    {
     "data": {
      "text/html": [
       "<div>\n",
       "<style scoped>\n",
       "    .dataframe tbody tr th:only-of-type {\n",
       "        vertical-align: middle;\n",
       "    }\n",
       "\n",
       "    .dataframe tbody tr th {\n",
       "        vertical-align: top;\n",
       "    }\n",
       "\n",
       "    .dataframe thead th {\n",
       "        text-align: right;\n",
       "    }\n",
       "</style>\n",
       "<table border=\"1\" class=\"dataframe\">\n",
       "  <thead>\n",
       "    <tr style=\"text-align: right;\">\n",
       "      <th></th>\n",
       "      <th>Unnamed: 0</th>\n",
       "      <th>rating</th>\n",
       "      <th>reviewText</th>\n",
       "      <th>summary</th>\n",
       "    </tr>\n",
       "  </thead>\n",
       "  <tbody>\n",
       "    <tr>\n",
       "      <th>0</th>\n",
       "      <td>0</td>\n",
       "      <td>5</td>\n",
       "      <td>This book was the very first bookmobile book I...</td>\n",
       "      <td>50 + years ago...</td>\n",
       "    </tr>\n",
       "    <tr>\n",
       "      <th>1</th>\n",
       "      <td>1</td>\n",
       "      <td>1</td>\n",
       "      <td>When I read the description for this book, I c...</td>\n",
       "      <td>Boring! Boring! Boring!</td>\n",
       "    </tr>\n",
       "    <tr>\n",
       "      <th>2</th>\n",
       "      <td>2</td>\n",
       "      <td>5</td>\n",
       "      <td>I just had to edit this review. This book is a...</td>\n",
       "      <td>Wiggleliscious/new toy ready/!!</td>\n",
       "    </tr>\n",
       "  </tbody>\n",
       "</table>\n",
       "</div>"
      ],
      "text/plain": [
       "   Unnamed: 0  rating                                         reviewText  \\\n",
       "0           0       5  This book was the very first bookmobile book I...   \n",
       "1           1       1  When I read the description for this book, I c...   \n",
       "2           2       5  I just had to edit this review. This book is a...   \n",
       "\n",
       "                           summary  \n",
       "0                50 + years ago...  \n",
       "1          Boring! Boring! Boring!  \n",
       "2  Wiggleliscious/new toy ready/!!  "
      ]
     },
     "execution_count": 2,
     "metadata": {},
     "output_type": "execute_result"
    }
   ],
   "source": [
    "reviews_df = pd.read_csv('Book_reviews.csv')\n",
    "reviews_df.head(3)"
   ]
  },
  {
   "cell_type": "markdown",
   "id": "bb1affea",
   "metadata": {},
   "source": [
    "## Data Preprocessing Part"
   ]
  },
  {
   "cell_type": "code",
   "execution_count": 3,
   "id": "a5fef66a",
   "metadata": {},
   "outputs": [
    {
     "data": {
      "text/html": [
       "<div>\n",
       "<style scoped>\n",
       "    .dataframe tbody tr th:only-of-type {\n",
       "        vertical-align: middle;\n",
       "    }\n",
       "\n",
       "    .dataframe tbody tr th {\n",
       "        vertical-align: top;\n",
       "    }\n",
       "\n",
       "    .dataframe thead th {\n",
       "        text-align: right;\n",
       "    }\n",
       "</style>\n",
       "<table border=\"1\" class=\"dataframe\">\n",
       "  <thead>\n",
       "    <tr style=\"text-align: right;\">\n",
       "      <th></th>\n",
       "      <th>rating</th>\n",
       "      <th>reviewText</th>\n",
       "    </tr>\n",
       "  </thead>\n",
       "  <tbody>\n",
       "    <tr>\n",
       "      <th>0</th>\n",
       "      <td>5</td>\n",
       "      <td>This book was the very first bookmobile book I...</td>\n",
       "    </tr>\n",
       "    <tr>\n",
       "      <th>1</th>\n",
       "      <td>1</td>\n",
       "      <td>When I read the description for this book, I c...</td>\n",
       "    </tr>\n",
       "    <tr>\n",
       "      <th>2</th>\n",
       "      <td>5</td>\n",
       "      <td>I just had to edit this review. This book is a...</td>\n",
       "    </tr>\n",
       "  </tbody>\n",
       "</table>\n",
       "</div>"
      ],
      "text/plain": [
       "   rating                                         reviewText\n",
       "0       5  This book was the very first bookmobile book I...\n",
       "1       1  When I read the description for this book, I c...\n",
       "2       5  I just had to edit this review. This book is a..."
      ]
     },
     "execution_count": 3,
     "metadata": {},
     "output_type": "execute_result"
    }
   ],
   "source": [
    "reviews_df = reviews_df.iloc[:,[1,2]]\n",
    "reviews_df.head(3)"
   ]
  },
  {
   "cell_type": "code",
   "execution_count": 4,
   "id": "d751d517",
   "metadata": {},
   "outputs": [
    {
     "data": {
      "text/plain": [
       "5    3000\n",
       "4    3000\n",
       "1    2000\n",
       "3    2000\n",
       "2    2000\n",
       "Name: rating, dtype: int64"
      ]
     },
     "execution_count": 4,
     "metadata": {},
     "output_type": "execute_result"
    }
   ],
   "source": [
    "reviews_df.rating.value_counts()"
   ]
  },
  {
   "cell_type": "code",
   "execution_count": 5,
   "id": "ddfa7a1f",
   "metadata": {},
   "outputs": [],
   "source": [
    "reviews_df.loc[(reviews_df['rating'] == 1) | (reviews_df['rating'] == 2), 'rating'] = 'Bad'\n",
    "reviews_df.loc[reviews_df['rating'] == 3, 'rating'] = 'Average'\n",
    "reviews_df.loc[(reviews_df['rating'] == 4) | (reviews_df['rating'] == 5), 'rating'] = 'Good'"
   ]
  },
  {
   "cell_type": "code",
   "execution_count": 6,
   "id": "599c9c51",
   "metadata": {},
   "outputs": [
    {
     "data": {
      "text/plain": [
       "Good       6000\n",
       "Bad        4000\n",
       "Average    2000\n",
       "Name: rating, dtype: int64"
      ]
     },
     "execution_count": 6,
     "metadata": {},
     "output_type": "execute_result"
    }
   ],
   "source": [
    "reviews_df['rating'].value_counts()"
   ]
  },
  {
   "cell_type": "code",
   "execution_count": 7,
   "id": "c5e91724",
   "metadata": {
    "scrolled": true
   },
   "outputs": [
    {
     "data": {
      "text/html": [
       "<div>\n",
       "<style scoped>\n",
       "    .dataframe tbody tr th:only-of-type {\n",
       "        vertical-align: middle;\n",
       "    }\n",
       "\n",
       "    .dataframe tbody tr th {\n",
       "        vertical-align: top;\n",
       "    }\n",
       "\n",
       "    .dataframe thead th {\n",
       "        text-align: right;\n",
       "    }\n",
       "</style>\n",
       "<table border=\"1\" class=\"dataframe\">\n",
       "  <thead>\n",
       "    <tr style=\"text-align: right;\">\n",
       "      <th></th>\n",
       "      <th>rating</th>\n",
       "      <th>reviewText</th>\n",
       "    </tr>\n",
       "  </thead>\n",
       "  <tbody>\n",
       "    <tr>\n",
       "      <th>0</th>\n",
       "      <td>Good</td>\n",
       "      <td>This book was the very first bookmobile book I...</td>\n",
       "    </tr>\n",
       "    <tr>\n",
       "      <th>1</th>\n",
       "      <td>Bad</td>\n",
       "      <td>When I read the description for this book, I c...</td>\n",
       "    </tr>\n",
       "    <tr>\n",
       "      <th>2</th>\n",
       "      <td>Good</td>\n",
       "      <td>I just had to edit this review. This book is a...</td>\n",
       "    </tr>\n",
       "    <tr>\n",
       "      <th>3</th>\n",
       "      <td>Good</td>\n",
       "      <td>I don't normally buy 'mystery' novels because ...</td>\n",
       "    </tr>\n",
       "    <tr>\n",
       "      <th>4</th>\n",
       "      <td>Good</td>\n",
       "      <td>This isn't the kind of book I normally read, a...</td>\n",
       "    </tr>\n",
       "    <tr>\n",
       "      <th>...</th>\n",
       "      <td>...</td>\n",
       "      <td>...</td>\n",
       "    </tr>\n",
       "    <tr>\n",
       "      <th>11995</th>\n",
       "      <td>Bad</td>\n",
       "      <td>Had to read certain passages twice--typos.  Wi...</td>\n",
       "    </tr>\n",
       "    <tr>\n",
       "      <th>11996</th>\n",
       "      <td>Average</td>\n",
       "      <td>Not what i expected. yet a very interesting bo...</td>\n",
       "    </tr>\n",
       "    <tr>\n",
       "      <th>11997</th>\n",
       "      <td>Good</td>\n",
       "      <td>Dragon Knights is a world where Knights ride d...</td>\n",
       "    </tr>\n",
       "    <tr>\n",
       "      <th>11998</th>\n",
       "      <td>Good</td>\n",
       "      <td>Since this story is very short, it's hard to s...</td>\n",
       "    </tr>\n",
       "    <tr>\n",
       "      <th>11999</th>\n",
       "      <td>Good</td>\n",
       "      <td>from 1922 an amazing collection of info on sym...</td>\n",
       "    </tr>\n",
       "  </tbody>\n",
       "</table>\n",
       "<p>12000 rows × 2 columns</p>\n",
       "</div>"
      ],
      "text/plain": [
       "        rating                                         reviewText\n",
       "0         Good  This book was the very first bookmobile book I...\n",
       "1          Bad  When I read the description for this book, I c...\n",
       "2         Good  I just had to edit this review. This book is a...\n",
       "3         Good  I don't normally buy 'mystery' novels because ...\n",
       "4         Good  This isn't the kind of book I normally read, a...\n",
       "...        ...                                                ...\n",
       "11995      Bad  Had to read certain passages twice--typos.  Wi...\n",
       "11996  Average  Not what i expected. yet a very interesting bo...\n",
       "11997     Good  Dragon Knights is a world where Knights ride d...\n",
       "11998     Good  Since this story is very short, it's hard to s...\n",
       "11999     Good  from 1922 an amazing collection of info on sym...\n",
       "\n",
       "[12000 rows x 2 columns]"
      ]
     },
     "execution_count": 7,
     "metadata": {},
     "output_type": "execute_result"
    }
   ],
   "source": [
    "reviews_df"
   ]
  },
  {
   "cell_type": "code",
   "execution_count": 8,
   "id": "13dff0de",
   "metadata": {},
   "outputs": [],
   "source": [
    "# def filtering_text(text):\n",
    "filtered_text=[]\n",
    "stemming=PorterStemmer()\n",
    "for i in range(len(reviews_df)):\n",
    "    sentence_preprocessing = re.sub('[^a-zA-z]',' ',reviews_df.reviewText[i])\n",
    "    sentence_preprocessing = sentence_preprocessing.lower()\n",
    "    sentence_preprocessing = sentence_preprocessing.split()\n",
    "\n",
    "    sec_processed=[]\n",
    "    for word in sentence_preprocessing:\n",
    "        if word not in stopwords.words('english'): # to remove puntuations \n",
    "            stem_word=stemming.stem(word)\n",
    "            sec_processed.append(stem_word)\n",
    "\n",
    "\n",
    "    sentence_preprocessing = ' '.join(sec_processed)    \n",
    "    filtered_text.append(sentence_preprocessing)\n",
    "\n",
    "#    filtered_text_2.append(sentence_preprocessing)"
   ]
  },
  {
   "cell_type": "code",
   "execution_count": 9,
   "id": "20487f62",
   "metadata": {},
   "outputs": [],
   "source": [
    "#filtered_text_2[100]"
   ]
  },
  {
   "cell_type": "code",
   "execution_count": 12,
   "id": "23074f3f",
   "metadata": {
    "scrolled": false
   },
   "outputs": [
    {
     "data": {
      "text/plain": [
       "'book first bookmobil book bought school book club love stori bet dollar donut love memori serv bought book th grade would look forward reliv memori'"
      ]
     },
     "execution_count": 12,
     "metadata": {},
     "output_type": "execute_result"
    }
   ],
   "source": [
    "filtered_text[0]"
   ]
  },
  {
   "cell_type": "code",
   "execution_count": 13,
   "id": "00a1b325",
   "metadata": {},
   "outputs": [],
   "source": [
    "reviews_df['CLeaned_Reviewes'] = filtered_text"
   ]
  },
  {
   "cell_type": "code",
   "execution_count": 14,
   "id": "4a41a335",
   "metadata": {
    "scrolled": false
   },
   "outputs": [
    {
     "data": {
      "text/plain": [
       "'from 1922 an amazing collection of info on symbols from cultures around the world and zodiac signs and gems.  while there are some ocr errors, there are also a very comprehensive linked table of contents and index.'"
      ]
     },
     "execution_count": 14,
     "metadata": {},
     "output_type": "execute_result"
    }
   ],
   "source": [
    "reviews_df.iloc[-1,1]"
   ]
  },
  {
   "cell_type": "code",
   "execution_count": 52,
   "id": "613676ff",
   "metadata": {},
   "outputs": [
    {
     "data": {
      "text/plain": [
       "0           Good\n",
       "1            Bad\n",
       "2           Good\n",
       "3           Good\n",
       "4           Good\n",
       "          ...   \n",
       "11995        Bad\n",
       "11996    Average\n",
       "11997       Good\n",
       "11998       Good\n",
       "11999       Good\n",
       "Name: rating, Length: 12000, dtype: object"
      ]
     },
     "execution_count": 52,
     "metadata": {},
     "output_type": "execute_result"
    }
   ],
   "source": [
    "reviews_df['rating']"
   ]
  },
  {
   "cell_type": "code",
   "execution_count": 15,
   "id": "32d02a08",
   "metadata": {},
   "outputs": [],
   "source": [
    "x_train,x_test,y_train,y_test = train_test_split(reviews_df['CLeaned_Reviewes'], reviews_df['rating'],test_size=0.2,random_state=10,stratify=reviews_df['rating'])"
   ]
  },
  {
   "cell_type": "code",
   "execution_count": 16,
   "id": "d119caac",
   "metadata": {},
   "outputs": [
    {
     "data": {
      "text/plain": [
       "rating \n",
       "Good       4800\n",
       "Bad        3200\n",
       "Average    1600\n",
       "dtype: int64"
      ]
     },
     "execution_count": 16,
     "metadata": {},
     "output_type": "execute_result"
    }
   ],
   "source": [
    "pd.DataFrame(y_train).value_counts()"
   ]
  },
  {
   "cell_type": "code",
   "execution_count": 17,
   "id": "ff28c8bc",
   "metadata": {},
   "outputs": [],
   "source": [
    "vectorizer= TfidfVectorizer(input = 'english')\n",
    "x_train_transformed = vectorizer.fit_transform(x_train)\n",
    "x_test_transformed = vectorizer.transform(x_test)"
   ]
  },
  {
   "cell_type": "markdown",
   "id": "c074428f",
   "metadata": {},
   "source": [
    "## Modeling Part"
   ]
  },
  {
   "cell_type": "code",
   "execution_count": 18,
   "id": "79969764",
   "metadata": {},
   "outputs": [
    {
     "data": {
      "text/plain": [
       "LogisticRegression(max_iter=250)"
      ]
     },
     "execution_count": 18,
     "metadata": {},
     "output_type": "execute_result"
    }
   ],
   "source": [
    "from xgboost import XGBClassifier\n",
    "from sklearn.ensemble import RandomForestClassifier\n",
    "from sklearn.linear_model import LogisticRegression \n",
    "\n",
    "model = RandomForestClassifier(n_estimators=300)\n",
    "model.fit(x_train_transformed,y_train)\n",
    "\n",
    "\n",
    "model2 = LogisticRegression(max_iter = 250)\n",
    "model2.fit(x_train_transformed,y_train)"
   ]
  },
  {
   "cell_type": "code",
   "execution_count": 19,
   "id": "f6499870",
   "metadata": {},
   "outputs": [],
   "source": [
    "y_pred = model.predict(x_test_transformed)\n",
    "y_pred2 = model2.predict(x_test_transformed)"
   ]
  },
  {
   "cell_type": "code",
   "execution_count": 20,
   "id": "59774516",
   "metadata": {},
   "outputs": [],
   "source": [
    "from sklearn.metrics import accuracy_score, confusion_matrix  "
   ]
  },
  {
   "cell_type": "code",
   "execution_count": 66,
   "id": "3f7ca7c3",
   "metadata": {
    "scrolled": false
   },
   "outputs": [
    {
     "name": "stdout",
     "output_type": "stream",
     "text": [
      "0.7020833333333333\n"
     ]
    },
    {
     "data": {
      "text/plain": [
       "array([[   5,  117,  278],\n",
       "       [   1,  565,  234],\n",
       "       [   0,   85, 1115]], dtype=int64)"
      ]
     },
     "execution_count": 66,
     "metadata": {},
     "output_type": "execute_result"
    }
   ],
   "source": [
    "print(accuracy_score(y_test,y_pred))\n",
    "confusion_matrix(y_test,y_pred)"
   ]
  },
  {
   "cell_type": "code",
   "execution_count": 38,
   "id": "de0789d0",
   "metadata": {
    "scrolled": true
   },
   "outputs": [
    {
     "name": "stdout",
     "output_type": "stream",
     "text": [
      "[[  71  129  200]\n",
      " [  33  625  142]\n",
      " [  31   89 1080]]\n"
     ]
    }
   ],
   "source": [
    "accuracy_score(y_test, y_pred2)\n",
    "print(confusion_matrix(y_test,y_pred2))"
   ]
  },
  {
   "cell_type": "code",
   "execution_count": 39,
   "id": "cfb8b5f3",
   "metadata": {},
   "outputs": [
    {
     "data": {
      "text/plain": [
       "['TFDF_Transformation']"
      ]
     },
     "execution_count": 39,
     "metadata": {},
     "output_type": "execute_result"
    }
   ],
   "source": [
    "#Saving the transformaion\n",
    "import joblib\n",
    "joblib.dump(vectorizer, 'TFDF_Transformation')"
   ]
  },
  {
   "cell_type": "code",
   "execution_count": 36,
   "id": "5bc962a9",
   "metadata": {
    "scrolled": true
   },
   "outputs": [
    {
     "data": {
      "text/plain": [
       "['RandomForest_model']"
      ]
     },
     "execution_count": 36,
     "metadata": {},
     "output_type": "execute_result"
    }
   ],
   "source": [
    "#SAving the model \n",
    "# joblib.dump(model2,'logistic_regression_model')\n",
    "# joblib.dump(model,'RandomForest_model')"
   ]
  },
  {
   "cell_type": "code",
   "execution_count": 24,
   "id": "c18b0b9a",
   "metadata": {
    "scrolled": true
   },
   "outputs": [
    {
     "name": "stdout",
     "output_type": "stream",
     "text": [
      "This book is very bad\n"
     ]
    }
   ],
   "source": [
    "a = \"This book is very bad\"\n",
    "a = re.sub('[^a-zA-z]',' ',a)\n",
    "print((a))\n",
    "b = vectorizer.transform([a]) "
   ]
  },
  {
   "cell_type": "code",
   "execution_count": 25,
   "id": "8e6b2774",
   "metadata": {
    "scrolled": true
   },
   "outputs": [
    {
     "data": {
      "text/plain": [
       "array(['Bad'], dtype=object)"
      ]
     },
     "execution_count": 25,
     "metadata": {},
     "output_type": "execute_result"
    }
   ],
   "source": [
    "model2.predict(b)"
   ]
  },
  {
   "cell_type": "code",
   "execution_count": 26,
   "id": "397d1570",
   "metadata": {},
   "outputs": [
    {
     "data": {
      "text/plain": [
       "array(['Bad'], dtype=object)"
      ]
     },
     "execution_count": 26,
     "metadata": {},
     "output_type": "execute_result"
    }
   ],
   "source": [
    "model.predict(b)"
   ]
  },
  {
   "cell_type": "code",
   "execution_count": 64,
   "id": "98835c19",
   "metadata": {
    "scrolled": true
   },
   "outputs": [],
   "source": []
  },
  {
   "cell_type": "markdown",
   "id": "14e7aaf6",
   "metadata": {},
   "source": [
    "## Code for the project part "
   ]
  },
  {
   "cell_type": "code",
   "execution_count": 85,
   "id": "6b23c00d",
   "metadata": {},
   "outputs": [],
   "source": [
    "import joblib \n",
    "model = joblib.load('logistic_regression_model')\n",
    "TFIDF_vectorizer = joblib.load('TFDF_Transformation')\n",
    "\n",
    "def prediction(text):\n",
    "    text = re.sub('[^a-zA-z]',' ',text)\n",
    "    text = text.lower()\n",
    "    text = text.split()\n",
    "\n",
    "    new_text=[]\n",
    "    for word in text:\n",
    "        if word not in stopwords.words('english'): # to remove puntuations \n",
    "            stem_word=stemming.stem(word)\n",
    "            new_text.append(stem_word)\n",
    "\n",
    "    new_text = ' '.join(new_text) \n",
    "    \n",
    "    transformed_text = TFIDF_vectorizer.transform([new_text])\n",
    "    prediction = model.predict(transformed_text)\n",
    "    \n",
    "    \n",
    "    return prediction[0]"
   ]
  },
  {
   "cell_type": "code",
   "execution_count": 86,
   "id": "329b7d0f",
   "metadata": {},
   "outputs": [
    {
     "data": {
      "text/plain": [
       "'Average'"
      ]
     },
     "execution_count": 86,
     "metadata": {},
     "output_type": "execute_result"
    }
   ],
   "source": [
    "prediction(text)"
   ]
  },
  {
   "cell_type": "code",
   "execution_count": null,
   "id": "23467035",
   "metadata": {},
   "outputs": [],
   "source": []
  }
 ],
 "metadata": {
  "kernelspec": {
   "display_name": "Python 3 (ipykernel)",
   "language": "python",
   "name": "python3"
  },
  "language_info": {
   "codemirror_mode": {
    "name": "ipython",
    "version": 3
   },
   "file_extension": ".py",
   "mimetype": "text/x-python",
   "name": "python",
   "nbconvert_exporter": "python",
   "pygments_lexer": "ipython3",
   "version": "3.9.13"
  }
 },
 "nbformat": 4,
 "nbformat_minor": 5
}
